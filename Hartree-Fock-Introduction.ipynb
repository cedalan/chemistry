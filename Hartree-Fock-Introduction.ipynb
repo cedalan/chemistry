{
 "cells": [
  {
   "cell_type": "markdown",
   "id": "7ddcbb6a",
   "metadata": {},
   "source": [
    "# An introduction to Hartree-Fock\n",
    "\n",
    "Written by Christian Elias Anderssen Dalan.\n",
    "\n",
    "This notebook will work as an introduction to the theory behind the iterative Hartree-Fock process, and will be written as I go along learning it. Because this notebook will evolve as my knowledge evolves, there might be mistakes here and there. If you see some, feel free to point them out. You can contact me via email: ceadyy@gmail.com."
   ]
  },
  {
   "cell_type": "markdown",
   "id": "21dba2a3",
   "metadata": {},
   "source": [
    "The Hartree-Fock method is an iterative process to solve the time-independent Schrodinger equation, shown in equation under:\n",
    "$$\n",
    "H\\vert \\Psi_0 \\rangle = E_0 \\vert \\Psi_0 \\rangle\n",
    "$$\n",
    "\n",
    "as you may know, the Schrodinger equation is only analytically solvable for a select few quantum systems, and for almost any practical problem we will have to find some sort of approximation. In the next section I will attempt to explain the different subjects I had to read through again since they had faded from my memory."
   ]
  },
  {
   "cell_type": "markdown",
   "id": "8530ce3e",
   "metadata": {},
   "source": [
    "# Things I had to brush up on:\n",
    "\n",
    "### Antisymmetric wave functions:\n",
    "\n",
    "Occording to Pauli's exclusion principle, two fermions cannot occupy the same state. (Why?). This means that our electronic wavefunction has to vanish (i.e $\\vert \\Psi \\rangle = 0$ if that is the case. Let us look at an example, a possible wave function for helium.\n",
    "\n",
    "$$\n",
    "\\vert \\Psi \\rangle = \\frac{1}{\\sqrt{2}} [\\psi_a (\\mathbf{r_1})\\psi_b (\\mathbf{r_2}) - \\psi_a (\\mathbf{r_2})\\psi_b (\\mathbf{r_1})]\n",
    "$$\n",
    "\n",
    "What will happen if $\\mathbf{r_1} = \\mathbf{r_2}$? The wavefunction collapses to 0! How can we reliably construct wavefunctions like this? We use something called slater determinants. These are explained in the next section.\n",
    "\n",
    "## Slater determinants\n",
    "\n",
    "The simplest way to approximate the wave function of a many-particle system is to express it as a product chosen individual orthogonal wave functions (the Hartree product). For the two-electron case we have:\n",
    "$$\n",
    "\\vert \\Psi_0 \\rangle = \\chi_a (\\mathbf{r_1}) \\chi_b (\\mathbf{r_2})\n",
    "$$\n",
    "\n",
    "An antisymmetric wavefunction has to satisfy: $\\vert \\Psi (\\mathbf{r_1},\\mathbf{r_2}) \\rangle = -\\vert \\Psi (\\mathbf{r_2}, \\mathbf{r_1})\\rangle$. The Hartree product does not satisfy this condition. A way to ensure this is to use a linear combination of both Hartree products:\n",
    "\n",
    "$$\n",
    "\\vert \\Psi (\\mathbf{r_1},\\mathbf{r_2} \\rangle \n",
    "$$\n",
    "\n",
    "&= \\frac{1}{\\sqrt{2}} [\\chi_a (\\mathbf{r_1})\\chi_b (\\mathbf{r_2}) - \\chi_a (\\mathbf{r_2})\\chi_b (\\mathbf{r_1})]\n",
    "&= \\frac{1}{\\sqrt{2}} \n",
    "\\begin{vmatrix}\n",
    "     \\chi_a (\\mathbf{r_1}) & \\chi_b (\\mathbf{r_1})\\\\ \n",
    "     \\chi_a (\\mathbf{r_2}) & \\chi_b (\\mathbf{r_2})\\\\\n",
    "\\end{vmatrix}\n",
    "\n"
   ]
  },
  {
   "cell_type": "markdown",
   "id": "89814c2c",
   "metadata": {},
   "source": [
    "## The Hartree-Fock equations\n",
    "\n",
    "We are interested in finding a set of spin-orbitals $\\{\\chi_k\\}$ such that we can express our ground-state wavefunction as a single determinant from these. In mathematical terms this means we want a set of N spin-orbitals such that,\n",
    "\n",
    "$$\n",
    "\\vert \\Psi_0 \\rangle = \\vert \\chi_1 \\chi_2 ... \\chi_a \\chi_b ... \\chi_N \\rangle,\n",
    "$$\n",
    "\n",
    "where $\\Psi_0$ is our approximate wave function."
   ]
  }
 ],
 "metadata": {
  "kernelspec": {
   "display_name": "Python 3 (ipykernel)",
   "language": "python",
   "name": "python3"
  },
  "language_info": {
   "codemirror_mode": {
    "name": "ipython",
    "version": 3
   },
   "file_extension": ".py",
   "mimetype": "text/x-python",
   "name": "python",
   "nbconvert_exporter": "python",
   "pygments_lexer": "ipython3",
   "version": "3.8.3"
  }
 },
 "nbformat": 4,
 "nbformat_minor": 5
}
