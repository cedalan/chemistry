{
 "cells": [
  {
   "cell_type": "code",
   "execution_count": 2,
   "id": "a0e284eb",
   "metadata": {},
   "outputs": [
    {
     "name": "stdout",
     "output_type": "stream",
     "text": [
      "Defaulting to user installation because normal site-packages is not writeable\n",
      "Requirement already satisfied: pyscf in /home/cedalan/.local/lib/python3.10/site-packages (2.3.0)\n",
      "Requirement already satisfied: h5py>=2.7 in /usr/lib/python3/dist-packages (from pyscf) (3.6.0)\n",
      "Requirement already satisfied: numpy!=1.16,!=1.17,>=1.13 in /usr/lib/python3/dist-packages (from pyscf) (1.21.5)\n",
      "Requirement already satisfied: scipy!=1.5.0,!=1.5.1 in /usr/lib/python3/dist-packages (from pyscf) (1.8.0)\n"
     ]
    }
   ],
   "source": [
    "import sys\n",
    "!{sys.executable} -m pip install pyscf\n",
    "import matplotlib.pyplot as plt\n",
    "import numpy as np\n",
    "import pyscf"
   ]
  },
  {
   "cell_type": "code",
   "execution_count": 11,
   "id": "e96d17a2",
   "metadata": {},
   "outputs": [
    {
     "name": "stdout",
     "output_type": "stream",
     "text": [
      "converged SCF energy = -112.35419681408\n",
      "**** MO energy ****\n",
      "MO #1   energy= -20.3103696700309  occ= 2\n",
      "MO #2   energy= -11.1230875296052  occ= 2\n",
      "MO #3   energy= -1.33169348449116  occ= 2\n",
      "MO #4   energy= -0.807287704599053 occ= 2\n",
      "MO #5   energy= -0.631540792177059 occ= 2\n",
      "MO #6   energy= -0.542446523804085 occ= 2\n",
      "MO #7   energy= -0.438374400007481 occ= 2\n",
      "MO #8   energy= -0.3548123922552   occ= 2\n",
      "MO #9   energy= 0.279501784943567  occ= 0\n",
      "MO #10  energy= 0.625634049394535  occ= 0\n",
      "MO #11  energy= 0.736397707564511  occ= 0\n",
      "MO #12  energy= 0.900606657150849  occ= 0\n",
      " ** Mulliken atomic charges  **\n",
      "charge of    0C =      0.07063\n",
      "charge of    1O =     -0.11726\n",
      "charge of    2H =      0.02331\n",
      "charge of    3H =      0.02331\n",
      "Dipole moment(X, Y, Z, Debye): -0.97330, -1.20177,  0.00000\n"
     ]
    }
   ],
   "source": [
    "acetone = pyscf.M(atom = \"acetone.xyz\")\n",
    "\n",
    "acetoneHF = acetone.HF()\n",
    "acetoneHF.run()\n",
    "\n",
    "acetoneHF.analyze()\n",
    "\n",
    "#pyscf.tools.dump_mat.dump_mo(acetone, acetone)\n",
    "\n",
    "pyscf.tools.molden.from_scf(acetoneHF, \"acetone\")"
   ]
  }
 ],
 "metadata": {
  "kernelspec": {
   "display_name": "Python 3 (ipykernel)",
   "language": "python",
   "name": "python3"
  },
  "language_info": {
   "codemirror_mode": {
    "name": "ipython",
    "version": 3
   },
   "file_extension": ".py",
   "mimetype": "text/x-python",
   "name": "python",
   "nbconvert_exporter": "python",
   "pygments_lexer": "ipython3",
   "version": "3.10.12"
  }
 },
 "nbformat": 4,
 "nbformat_minor": 5
}
