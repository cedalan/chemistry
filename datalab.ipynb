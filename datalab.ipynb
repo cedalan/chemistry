{
 "cells": [
  {
   "cell_type": "code",
   "execution_count": 1,
   "id": "a0e284eb",
   "metadata": {},
   "outputs": [
    {
     "name": "stdout",
     "output_type": "stream",
     "text": [
      "Defaulting to user installation because normal site-packages is not writeable\n",
      "Requirement already satisfied: pyscf in /home/cedalan/.local/lib/python3.10/site-packages (2.3.0)\n",
      "Requirement already satisfied: scipy!=1.5.0,!=1.5.1 in /usr/lib/python3/dist-packages (from pyscf) (1.8.0)\n",
      "Requirement already satisfied: h5py>=2.7 in /usr/lib/python3/dist-packages (from pyscf) (3.6.0)\n",
      "Requirement already satisfied: numpy!=1.16,!=1.17,>=1.13 in /usr/lib/python3/dist-packages (from pyscf) (1.21.5)\n"
     ]
    }
   ],
   "source": [
    "import sys\n",
    "!{sys.executable} -m pip install pyscf\n",
    "import matplotlib.pyplot as plt\n",
    "import numpy as np\n",
    "import pyscf"
   ]
  },
  {
   "cell_type": "code",
   "execution_count": 2,
   "id": "e96d17a2",
   "metadata": {},
   "outputs": [
    {
     "data": {
      "text/plain": [
       "'3.10.12 (main, Jun 11 2023, 05:26:28) [GCC 11.4.0]'"
      ]
     },
     "execution_count": 2,
     "metadata": {},
     "output_type": "execute_result"
    }
   ],
   "source": [
    "import sys\n",
    "sys.version"
   ]
  }
 ],
 "metadata": {
  "kernelspec": {
   "display_name": "Python 3 (ipykernel)",
   "language": "python",
   "name": "python3"
  },
  "language_info": {
   "codemirror_mode": {
    "name": "ipython",
    "version": 3
   },
   "file_extension": ".py",
   "mimetype": "text/x-python",
   "name": "python",
   "nbconvert_exporter": "python",
   "pygments_lexer": "ipython3",
   "version": "3.10.12"
  }
 },
 "nbformat": 4,
 "nbformat_minor": 5
}
